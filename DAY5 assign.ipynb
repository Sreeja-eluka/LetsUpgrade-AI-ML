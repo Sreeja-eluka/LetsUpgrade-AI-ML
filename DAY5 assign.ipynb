{
 "cells": [
  {
   "cell_type": "markdown",
   "metadata": {},
   "source": [
    "1.\n"
   ]
  },
  {
   "cell_type": "code",
   "execution_count": 18,
   "metadata": {},
   "outputs": [
    {
     "name": "stdout",
     "output_type": "stream",
     "text": [
      "1 . 3\n",
      "2 . 5\n",
      "3 . 7\n",
      "4 . 11\n",
      "5 . 13\n",
      "6 . 17\n",
      "7 . 19\n",
      "8 . 23\n",
      "9 . 29\n",
      "10 . 31\n",
      "11 . 37\n",
      "12 . 41\n",
      "13 . 43\n",
      "14 . 47\n",
      "15 . 53\n",
      "16 . 59\n",
      "17 . 61\n",
      "18 . 67\n",
      "19 . 71\n",
      "20 . 73\n"
     ]
    }
   ],
   "source": [
    "count=0\n",
    "num=2\n",
    "while count < 20:\n",
    "       if num > 1:\n",
    "            for i in range(2,int(num/2)):\n",
    "                  if (num%i== 0):\n",
    "                    break\n",
    "            else:\n",
    "                     if num%2!=0:\n",
    "                        print(count+1,\".\",num)\n",
    "                        count=count+1\n",
    "            num=num+1       \n",
    "    \n",
    "        "
   ]
  },
  {
   "cell_type": "markdown",
   "metadata": {},
   "source": [
    "2.\n"
   ]
  },
  {
   "cell_type": "code",
   "execution_count": 19,
   "metadata": {},
   "outputs": [
    {
     "name": "stdout",
     "output_type": "stream",
     "text": [
      "SREEJA IS LEARNING PYTHON using swapcase function\n",
      "Sreeja is learning python using capitalize function\n",
      "True\n",
      "False\n",
      "25\n",
      "['sreeja', 'is', 'learning', 'python']\n",
      "sreeja love learning python\n",
      "2\n",
      "False because we have spaces in string\n",
      "s-r-e-e-j-a- -i-s- -l-e-a-r-n-i-n-g- -p-y-t-h-o-n\n",
      "nohtyp gninrael si ajeers\n",
      "sreeja is learning python-\n",
      "eeja i\n",
      "\n",
      "sreeja is learning python\n",
      "11\n"
     ]
    }
   ],
   "source": [
    "s1=\"sreeja is learning python\"\n",
    "s2=\"-\"\n",
    "print(s1.swapcase(),\"using swapcase function\")\n",
    "print(s1.capitalize(),\"using capitalize function\")\n",
    "print(s1.islower())\n",
    "print(s1.isupper())\n",
    "print(len(s1))\n",
    "print(s1.split())\n",
    "print(s1.replace('is','love'))\n",
    "print(s1.index(\"e\"))\n",
    "print(s1.isalpha(),\"because we have spaces in string\")\n",
    "print(s2.join(s1))\n",
    "print(s1[::-1])\n",
    "print(s1+s2)\n",
    "print(s1[2:8])\n",
    "print(s1[-5:-8])\n",
    "print(s1[:])\n",
    "print(s1.rfind('e',0,20))\n"
   ]
  },
  {
   "cell_type": "markdown",
   "metadata": {},
   "source": [
    "3."
   ]
  },
  {
   "cell_type": "code",
   "execution_count": 20,
   "metadata": {},
   "outputs": [
    {
     "name": "stdout",
     "output_type": "stream",
     "text": [
      "enter first stringsreeja\n",
      "enter second stringjeeras\n",
      "strings s1 and a2 are anagram\n"
     ]
    }
   ],
   "source": [
    "s1=input(\"enter first string\")\n",
    "s2=input(\"enter second string\")\n",
    "if(sorted(s1)==sorted(s2)):\n",
    "    print(\"strings s1 and a2 are anagram\")\n",
    "if(s1==s1[::-1]):\n",
    "    print(\"s1 is palindrome\")\n",
    "if(s2==s2[::-1]):\n",
    "    print(\"s2 is palindrome\")\n",
    "    "
   ]
  },
  {
   "cell_type": "markdown",
   "metadata": {},
   "source": [
    "4."
   ]
  },
  {
   "cell_type": "code",
   "execution_count": 2,
   "metadata": {},
   "outputs": [
    {
     "name": "stdout",
     "output_type": "stream",
     "text": [
      "enter your stringDr. Darshan Ingle@AI-ML Trainer\n",
      "dr darshan ingleaiml trainer is new string after removing characters\n"
     ]
    }
   ],
   "source": [
    "def removechar(c):\n",
    "    to_remove=\".,@#%$*-!):\"\n",
    "    string=c\n",
    "    for char in to_remove:\n",
    "        string=string.replace(char,\"\")\n",
    "        finalstring=string.lower()\n",
    "    print(finalstring,\"is new string after removing characters\")\n",
    "s1=(input(\"enter your string \")) \n",
    "removechar(s1)"
   ]
  },
  {
   "cell_type": "code",
   "execution_count": null,
   "metadata": {},
   "outputs": [],
   "source": []
  },
  {
   "cell_type": "code",
   "execution_count": null,
   "metadata": {},
   "outputs": [],
   "source": []
  }
 ],
 "metadata": {
  "kernelspec": {
   "display_name": "Python 3",
   "language": "python",
   "name": "python3"
  },
  "language_info": {
   "codemirror_mode": {
    "name": "ipython",
    "version": 3
   },
   "file_extension": ".py",
   "mimetype": "text/x-python",
   "name": "python",
   "nbconvert_exporter": "python",
   "pygments_lexer": "ipython3",
   "version": "3.7.6"
  }
 },
 "nbformat": 4,
 "nbformat_minor": 4
}
