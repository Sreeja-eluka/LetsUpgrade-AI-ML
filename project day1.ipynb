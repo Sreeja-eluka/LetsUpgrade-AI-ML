{
 "cells": [
  {
   "cell_type": "code",
   "execution_count": 1,
   "metadata": {},
   "outputs": [],
   "source": [
    "import os \n",
    "import sys\n",
    "import numpy as np \n",
    "import pandas as pd \n",
    "from sklearn.model_selection import train_test_split\n",
    "from scipy.io import loadmat\n"
   ]
  },
  {
   "cell_type": "markdown",
   "metadata": {},
   "source": [
    "import pyod packages and methods"
   ]
  },
  {
   "cell_type": "code",
   "execution_count": 2,
   "metadata": {},
   "outputs": [
    {
     "name": "stderr",
     "output_type": "stream",
     "text": [
      "C:\\Users\\hp\\anaconda3\\lib\\site-packages\\sklearn\\utils\\deprecation.py:144: FutureWarning: The sklearn.utils.testing module is  deprecated in version 0.22 and will be removed in version 0.24. The corresponding classes / functions should instead be imported from sklearn.utils. Anything that cannot be imported from sklearn.utils is now part of the private API.\n",
      "  warnings.warn(message, FutureWarning)\n"
     ]
    }
   ],
   "source": [
    "from pyod.models.pca import PCA\n",
    "from pyod.models.mcd import MCD\n",
    "from pyod.models.ocsvm import OCSVM\n",
    "from pyod.models.lof import LOF\n",
    "from pyod.models.cblof import CBLOF\n",
    "from pyod.models.knn import KNN\n",
    "from pyod.models.hbos import HBOS\n",
    "from pyod.models.abod import ABOD\n",
    "from pyod.models.iforest import IForest\n",
    "from pyod.models.feature_bagging import FeatureBagging\n"
   ]
  },
  {
   "cell_type": "markdown",
   "metadata": {},
   "source": [
    "import performance metrics package"
   ]
  },
  {
   "cell_type": "code",
   "execution_count": 3,
   "metadata": {},
   "outputs": [],
   "source": [
    "from pyod.utils.utility import standardizer\n",
    "from pyod.utils.utility import precision_n_scores\n",
    "from sklearn.metrics import roc_auc_score\n"
   ]
  },
  {
   "cell_type": "markdown",
   "metadata": {},
   "source": [
    "define data file and read X and y"
   ]
  },
  {
   "cell_type": "code",
   "execution_count": 4,
   "metadata": {},
   "outputs": [
    {
     "data": {
      "text/plain": [
       "['arrhythmia.mat',\n",
       " 'cardio.mat',\n",
       " 'glass.mat',\n",
       " 'ionosphere.mat',\n",
       " 'letter.mat',\n",
       " 'lympho.mat',\n",
       " 'mnist.mat',\n",
       " 'musk.mat',\n",
       " 'optdigits.mat',\n",
       " 'pendigits.mat',\n",
       " 'pima.mat',\n",
       " 'satellite.mat',\n",
       " 'satimage-2.mat',\n",
       " 'shuttle.mat',\n",
       " 'vertebral.mat',\n",
       " 'vowels.mat',\n",
       " 'wbc.matb']"
      ]
     },
     "execution_count": 4,
     "metadata": {},
     "output_type": "execute_result"
    }
   ],
   "source": [
    "mat_file_list=['arrhythmia.mat','cardio.mat','glass.mat','ionosphere.mat',\n",
    "              'letter.mat','lympho.mat','mnist.mat','musk.mat','optdigits.mat'\n",
    "              ,'pendigits.mat','pima.mat','satellite.mat','satimage-2.mat',\n",
    "              'shuttle.mat','vertebral.mat','vowels.mat','wbc.matb']\n",
    "mat_file_list"
   ]
  },
  {
   "cell_type": "code",
   "execution_count": 5,
   "metadata": {},
   "outputs": [
    {
     "data": {
      "text/plain": [
       "{'__header__': b'MATLAB 5.0 MAT-file, written by Octave 3.8.0, 2014-12-18 10:48:09 UTC',\n",
       " '__version__': '1.0',\n",
       " '__globals__': [],\n",
       " 'X': array([[ 0.00491231,  0.69319077, -0.20364049, ...,  0.23149795,\n",
       "         -0.28978574, -0.49329397],\n",
       "        [ 0.11072935, -0.07990259, -0.20364049, ...,  0.09356344,\n",
       "         -0.25638541, -0.49329397],\n",
       "        [ 0.21654639, -0.27244466, -0.20364049, ...,  0.02459619,\n",
       "         -0.25638541,  1.14001753],\n",
       "        ...,\n",
       "        [-0.41835583, -0.91998844, -0.16463485, ..., -1.49268341,\n",
       "          0.24461959, -0.49329397],\n",
       "        [-0.41835583, -0.91998844, -0.15093411, ..., -1.42371616,\n",
       "          0.14441859, -0.49329397],\n",
       "        [-0.41835583, -0.91998844, -0.20364049, ..., -1.28578165,\n",
       "          3.58465295, -0.49329397]]),\n",
       " 'y': array([[0.],\n",
       "        [0.],\n",
       "        [0.],\n",
       "        ...,\n",
       "        [1.],\n",
       "        [1.],\n",
       "        [1.]])}"
      ]
     },
     "execution_count": 5,
     "metadata": {},
     "output_type": "execute_result"
    }
   ],
   "source": [
    "data=loadmat('cardio.mat')\n",
    "data \n"
   ]
  },
  {
   "cell_type": "code",
   "execution_count": 6,
   "metadata": {},
   "outputs": [
    {
     "data": {
      "text/plain": [
       "5"
      ]
     },
     "execution_count": 6,
     "metadata": {},
     "output_type": "execute_result"
    }
   ],
   "source": [
    "len(data)"
   ]
  },
  {
   "cell_type": "code",
   "execution_count": 7,
   "metadata": {},
   "outputs": [
    {
     "data": {
      "text/plain": [
       "dict_keys(['__header__', '__version__', '__globals__', 'X', 'y'])"
      ]
     },
     "execution_count": 7,
     "metadata": {},
     "output_type": "execute_result"
    }
   ],
   "source": [
    "data.keys()"
   ]
  },
  {
   "cell_type": "code",
   "execution_count": 8,
   "metadata": {},
   "outputs": [
    {
     "data": {
      "text/plain": [
       "dict_values([b'MATLAB 5.0 MAT-file, written by Octave 3.8.0, 2014-12-18 10:48:09 UTC', '1.0', [], array([[ 0.00491231,  0.69319077, -0.20364049, ...,  0.23149795,\n",
       "        -0.28978574, -0.49329397],\n",
       "       [ 0.11072935, -0.07990259, -0.20364049, ...,  0.09356344,\n",
       "        -0.25638541, -0.49329397],\n",
       "       [ 0.21654639, -0.27244466, -0.20364049, ...,  0.02459619,\n",
       "        -0.25638541,  1.14001753],\n",
       "       ...,\n",
       "       [-0.41835583, -0.91998844, -0.16463485, ..., -1.49268341,\n",
       "         0.24461959, -0.49329397],\n",
       "       [-0.41835583, -0.91998844, -0.15093411, ..., -1.42371616,\n",
       "         0.14441859, -0.49329397],\n",
       "       [-0.41835583, -0.91998844, -0.20364049, ..., -1.28578165,\n",
       "         3.58465295, -0.49329397]]), array([[0.],\n",
       "       [0.],\n",
       "       [0.],\n",
       "       ...,\n",
       "       [1.],\n",
       "       [1.],\n",
       "       [1.]])])"
      ]
     },
     "execution_count": 8,
     "metadata": {},
     "output_type": "execute_result"
    }
   ],
   "source": [
    "data.values()"
   ]
  },
  {
   "cell_type": "code",
   "execution_count": 9,
   "metadata": {},
   "outputs": [
    {
     "data": {
      "text/plain": [
       "(numpy.ndarray, (1831, 21))"
      ]
     },
     "execution_count": 9,
     "metadata": {},
     "output_type": "execute_result"
    }
   ],
   "source": [
    "type(data['X']),data['X'].shape"
   ]
  },
  {
   "cell_type": "code",
   "execution_count": 10,
   "metadata": {},
   "outputs": [
    {
     "data": {
      "text/plain": [
       "(numpy.ndarray, (1831, 1))"
      ]
     },
     "execution_count": 10,
     "metadata": {},
     "output_type": "execute_result"
    }
   ],
   "source": [
    "type(data['y']),data['y'].shape"
   ]
  },
  {
   "cell_type": "markdown",
   "metadata": {},
   "source": [
    "define nine outliers to be compared "
   ]
  },
  {
   "cell_type": "code",
   "execution_count": 11,
   "metadata": {},
   "outputs": [],
   "source": [
    "df_columns=['Data','#Samples','#Dimeensions','Outlier Prec',\n",
    "           'ABOD','CBLOF','FB','IForest','KNN','LOF','MCD',\n",
    "           'OCSVM','PCA']\n"
   ]
  },
  {
   "cell_type": "raw",
   "metadata": {},
   "source": [
    "**ROC PERFORMANCE EVALUATION TABLE**"
   ]
  },
  {
   "cell_type": "code",
   "execution_count": 12,
   "metadata": {},
   "outputs": [
    {
     "data": {
      "text/html": [
       "<div>\n",
       "<style scoped>\n",
       "    .dataframe tbody tr th:only-of-type {\n",
       "        vertical-align: middle;\n",
       "    }\n",
       "\n",
       "    .dataframe tbody tr th {\n",
       "        vertical-align: top;\n",
       "    }\n",
       "\n",
       "    .dataframe thead th {\n",
       "        text-align: right;\n",
       "    }\n",
       "</style>\n",
       "<table border=\"1\" class=\"dataframe\">\n",
       "  <thead>\n",
       "    <tr style=\"text-align: right;\">\n",
       "      <th></th>\n",
       "      <th>Data</th>\n",
       "      <th>#Samples</th>\n",
       "      <th>#Dimeensions</th>\n",
       "      <th>Outlier Prec</th>\n",
       "      <th>ABOD</th>\n",
       "      <th>CBLOF</th>\n",
       "      <th>FB</th>\n",
       "      <th>IForest</th>\n",
       "      <th>KNN</th>\n",
       "      <th>LOF</th>\n",
       "      <th>MCD</th>\n",
       "      <th>OCSVM</th>\n",
       "      <th>PCA</th>\n",
       "    </tr>\n",
       "  </thead>\n",
       "  <tbody>\n",
       "  </tbody>\n",
       "</table>\n",
       "</div>"
      ],
      "text/plain": [
       "Empty DataFrame\n",
       "Columns: [Data, #Samples, #Dimeensions, Outlier Prec, ABOD, CBLOF, FB, IForest, KNN, LOF, MCD, OCSVM, PCA]\n",
       "Index: []"
      ]
     },
     "execution_count": 12,
     "metadata": {},
     "output_type": "execute_result"
    }
   ],
   "source": [
    "roc_df = pd.DataFrame(columns= df_columns)\n",
    "roc_df"
   ]
  },
  {
   "cell_type": "markdown",
   "metadata": {},
   "source": [
    "PRECISION_N_SCORES -Performance evaluation table "
   ]
  },
  {
   "cell_type": "code",
   "execution_count": 13,
   "metadata": {},
   "outputs": [
    {
     "data": {
      "text/html": [
       "<div>\n",
       "<style scoped>\n",
       "    .dataframe tbody tr th:only-of-type {\n",
       "        vertical-align: middle;\n",
       "    }\n",
       "\n",
       "    .dataframe tbody tr th {\n",
       "        vertical-align: top;\n",
       "    }\n",
       "\n",
       "    .dataframe thead th {\n",
       "        text-align: right;\n",
       "    }\n",
       "</style>\n",
       "<table border=\"1\" class=\"dataframe\">\n",
       "  <thead>\n",
       "    <tr style=\"text-align: right;\">\n",
       "      <th></th>\n",
       "      <th>Data</th>\n",
       "      <th>#Samples</th>\n",
       "      <th>#Dimeensions</th>\n",
       "      <th>Outlier Prec</th>\n",
       "      <th>ABOD</th>\n",
       "      <th>CBLOF</th>\n",
       "      <th>FB</th>\n",
       "      <th>IForest</th>\n",
       "      <th>KNN</th>\n",
       "      <th>LOF</th>\n",
       "      <th>MCD</th>\n",
       "      <th>OCSVM</th>\n",
       "      <th>PCA</th>\n",
       "    </tr>\n",
       "  </thead>\n",
       "  <tbody>\n",
       "  </tbody>\n",
       "</table>\n",
       "</div>"
      ],
      "text/plain": [
       "Empty DataFrame\n",
       "Columns: [Data, #Samples, #Dimeensions, Outlier Prec, ABOD, CBLOF, FB, IForest, KNN, LOF, MCD, OCSVM, PCA]\n",
       "Index: []"
      ]
     },
     "execution_count": 13,
     "metadata": {},
     "output_type": "execute_result"
    }
   ],
   "source": [
    "prn_df =pd.DataFrame(columns=df_columns)\n",
    "prn_df"
   ]
  },
  {
   "cell_type": "markdown",
   "metadata": {},
   "source": [
    "TIME DATAFRAME"
   ]
  },
  {
   "cell_type": "code",
   "execution_count": 14,
   "metadata": {},
   "outputs": [
    {
     "data": {
      "text/html": [
       "<div>\n",
       "<style scoped>\n",
       "    .dataframe tbody tr th:only-of-type {\n",
       "        vertical-align: middle;\n",
       "    }\n",
       "\n",
       "    .dataframe tbody tr th {\n",
       "        vertical-align: top;\n",
       "    }\n",
       "\n",
       "    .dataframe thead th {\n",
       "        text-align: right;\n",
       "    }\n",
       "</style>\n",
       "<table border=\"1\" class=\"dataframe\">\n",
       "  <thead>\n",
       "    <tr style=\"text-align: right;\">\n",
       "      <th></th>\n",
       "      <th>Data</th>\n",
       "      <th>#Samples</th>\n",
       "      <th>#Dimeensions</th>\n",
       "      <th>Outlier Prec</th>\n",
       "      <th>ABOD</th>\n",
       "      <th>CBLOF</th>\n",
       "      <th>FB</th>\n",
       "      <th>IForest</th>\n",
       "      <th>KNN</th>\n",
       "      <th>LOF</th>\n",
       "      <th>MCD</th>\n",
       "      <th>OCSVM</th>\n",
       "      <th>PCA</th>\n",
       "    </tr>\n",
       "  </thead>\n",
       "  <tbody>\n",
       "  </tbody>\n",
       "</table>\n",
       "</div>"
      ],
      "text/plain": [
       "Empty DataFrame\n",
       "Columns: [Data, #Samples, #Dimeensions, Outlier Prec, ABOD, CBLOF, FB, IForest, KNN, LOF, MCD, OCSVM, PCA]\n",
       "Index: []"
      ]
     },
     "execution_count": 14,
     "metadata": {},
     "output_type": "execute_result"
    }
   ],
   "source": [
    "time_df =pd.DataFrame(columns=df_columns)\n",
    "time_df"
   ]
  },
  {
   "cell_type": "markdown",
   "metadata": {},
   "source": [
    "EXPLORING ALL MAT FILES"
   ]
  },
  {
   "cell_type": "code",
   "execution_count": null,
   "metadata": {},
   "outputs": [
    {
     "name": "stdout",
     "output_type": "stream",
     "text": [
      "\n",
      "... Processing arrhythmia.mat ...\n",
      "Angle based outlier detector(ABOD) ROC:0.7246, precision @ rank n:0.2857, execution time: 4.4181s\n",
      "Cluster-based Loacl Outlier Factor ROC:0.7283, precision @ rank n:0.2857, execution time: 2.7594s\n",
      "Feature Bagging ROC:0.712, precision @ rank n:0.2857, execution time: 0.6101s\n",
      "Histogram base outlier detection ROC:0.8077, precision @ rank n:0.4643, execution time: 1.7519s\n",
      "Isolation Forest ROC:0.7972, precision @ rank n:0.4286, execution time: 0.5789s\n",
      "k Nearest Neighbours (kNN) ROC:0.7148, precision @ rank n:0.2857, execution time: 0.0901s\n",
      "Local Outlier Factor(LOF) ROC:0.7171, precision @ rank n:0.3214, execution time: 0.0743s\n"
     ]
    },
    {
     "name": "stderr",
     "output_type": "stream",
     "text": [
      "C:\\Users\\hp\\anaconda3\\lib\\site-packages\\sklearn\\covariance\\_robust_covariance.py:644: UserWarning: The covariance matrix associated to your dataset is not full rank\n",
      "  warnings.warn(\"The covariance matrix associated to your dataset \"\n"
     ]
    },
    {
     "name": "stdout",
     "output_type": "stream",
     "text": [
      "Minimun Covariance Determinant (MCD) ROC:0.725, precision @ rank n:0.3214, execution time: 1.7406s\n",
      "One-Class SVM (OCSVM) ROC:0.7124, precision @ rank n:0.2857, execution time: 0.0859s\n",
      "Principal Component Analysis ROC:0.7134, precision @ rank n:0.2857, execution time: 0.0741s\n",
      "\n",
      "... Processing cardio.mat ...\n",
      "Angle based outlier detector(ABOD) ROC:0.5928, precision @ rank n:0.275, execution time: 0.4035s\n",
      "Cluster-based Loacl Outlier Factor ROC:0.7221, precision @ rank n:0.3, execution time: 0.1632s\n",
      "Feature Bagging ROC:0.6003, precision @ rank n:0.2, execution time: 0.7619s\n",
      "Histogram base outlier detection ROC:0.8556, precision @ rank n:0.525, execution time: 0.0101s\n",
      "Isolation Forest ROC:0.9243, precision @ rank n:0.55, execution time: 0.3635s\n",
      "k Nearest Neighbours (kNN) ROC:0.7663, precision @ rank n:0.3875, execution time: 0.1358s\n",
      "Local Outlier Factor(LOF) ROC:0.6062, precision @ rank n:0.2, execution time: 0.0879s\n"
     ]
    },
    {
     "name": "stderr",
     "output_type": "stream",
     "text": [
      "C:\\Users\\hp\\anaconda3\\lib\\site-packages\\sklearn\\covariance\\_robust_covariance.py:644: UserWarning: The covariance matrix associated to your dataset is not full rank\n",
      "  warnings.warn(\"The covariance matrix associated to your dataset \"\n",
      "C:\\Users\\hp\\anaconda3\\lib\\site-packages\\sklearn\\covariance\\_robust_covariance.py:170: RuntimeWarning: Determinant has increased; this should not happen: log(det) > log(previous_det) (-152.231552900163678 > -248.277052140188715). You may want to try with a higher value of support_fraction (current value: 0.510).\n",
      "  RuntimeWarning)\n",
      "C:\\Users\\hp\\anaconda3\\lib\\site-packages\\sklearn\\covariance\\_robust_covariance.py:170: RuntimeWarning: Determinant has increased; this should not happen: log(det) > log(previous_det) (-150.510611449116283 > -248.427240725426998). You may want to try with a higher value of support_fraction (current value: 0.510).\n",
      "  RuntimeWarning)\n",
      "C:\\Users\\hp\\anaconda3\\lib\\site-packages\\sklearn\\covariance\\_robust_covariance.py:170: RuntimeWarning: Determinant has increased; this should not happen: log(det) > log(previous_det) (-153.221117870425019 > -253.057338265945361). You may want to try with a higher value of support_fraction (current value: 0.510).\n",
      "  RuntimeWarning)\n",
      "C:\\Users\\hp\\anaconda3\\lib\\site-packages\\sklearn\\covariance\\_robust_covariance.py:170: RuntimeWarning: Determinant has increased; this should not happen: log(det) > log(previous_det) (-150.729371771509221 > -249.433776091501414). You may want to try with a higher value of support_fraction (current value: 0.510).\n",
      "  RuntimeWarning)\n",
      "C:\\Users\\hp\\anaconda3\\lib\\site-packages\\sklearn\\covariance\\_robust_covariance.py:170: RuntimeWarning: Determinant has increased; this should not happen: log(det) > log(previous_det) (-150.737841698135071 > -248.106185812260890). You may want to try with a higher value of support_fraction (current value: 0.510).\n",
      "  RuntimeWarning)\n",
      "C:\\Users\\hp\\anaconda3\\lib\\site-packages\\sklearn\\covariance\\_robust_covariance.py:170: RuntimeWarning: Determinant has increased; this should not happen: log(det) > log(previous_det) (-149.904481895336744 > -250.386826013699647). You may want to try with a higher value of support_fraction (current value: 0.510).\n",
      "  RuntimeWarning)\n",
      "C:\\Users\\hp\\anaconda3\\lib\\site-packages\\sklearn\\covariance\\_robust_covariance.py:170: RuntimeWarning: Determinant has increased; this should not happen: log(det) > log(previous_det) (-152.257397458218435 > -248.466591546509989). You may want to try with a higher value of support_fraction (current value: 0.510).\n",
      "  RuntimeWarning)\n"
     ]
    },
    {
     "name": "stdout",
     "output_type": "stream",
     "text": [
      "Minimun Covariance Determinant (MCD) ROC:0.8685, precision @ rank n:0.45, execution time: 0.5949s\n",
      "One-Class SVM (OCSVM) ROC:0.9404, precision @ rank n:0.55, execution time: 0.07s\n",
      "Principal Component Analysis ROC:0.9542, precision @ rank n:0.6375, execution time: 0.004s\n",
      "\n",
      "... Processing glass.mat ...\n",
      "Angle based outlier detector(ABOD) ROC:0.8571, precision @ rank n:0.2857, execution time: 0.0599s\n",
      "Cluster-based Loacl Outlier Factor ROC:0.8373, precision @ rank n:0.1429, execution time: 0.0559s\n",
      "Feature Bagging ROC:0.8571, precision @ rank n:0.1429, execution time: 0.0479s\n",
      "Histogram base outlier detection ROC:0.7288, precision @ rank n:0.0, execution time: 0.004s\n",
      "Isolation Forest ROC:0.745, precision @ rank n:0.1429, execution time: 0.3156s\n",
      "k Nearest Neighbours (kNN) ROC:0.8427, precision @ rank n:0.1429, execution time: 0.008s\n",
      "Local Outlier Factor(LOF) ROC:0.8499, precision @ rank n:0.1429, execution time: 0.004s\n",
      "Minimun Covariance Determinant (MCD) ROC:0.7975, precision @ rank n:0.1429, execution time: 0.032s\n",
      "One-Class SVM (OCSVM) ROC:0.5714, precision @ rank n:0.1429, execution time: 0.004s\n",
      "Principal Component Analysis ROC:0.642, precision @ rank n:0.1429, execution time: 0.004s\n",
      "\n",
      "... Processing ionosphere.mat ...\n",
      "Angle based outlier detector(ABOD) ROC:0.9312, precision @ rank n:0.8305, execution time: 0.0959s\n",
      "Cluster-based Loacl Outlier Factor ROC:0.9103, precision @ rank n:0.8644, execution time: 0.0679s\n",
      "Feature Bagging ROC:0.9132, precision @ rank n:0.7966, execution time: 0.0882s\n",
      "Histogram base outlier detection ROC:0.6263, precision @ rank n:0.5085, execution time: 0.012s\n",
      "Isolation Forest ROC:0.8597, precision @ rank n:0.7119, execution time: 0.3543s\n",
      "k Nearest Neighbours (kNN) ROC:0.937, precision @ rank n:0.8983, execution time: 0.02s\n",
      "Local Outlier Factor(LOF) ROC:0.9155, precision @ rank n:0.7627, execution time: 0.004s\n",
      "Minimun Covariance Determinant (MCD) ROC:0.9427, precision @ rank n:0.8983, execution time: 0.0599s\n",
      "One-Class SVM (OCSVM) ROC:0.8584, precision @ rank n:0.7627, execution time: 0.008s\n",
      "Principal Component Analysis ROC:0.828, precision @ rank n:0.661, execution time: 0.004s\n",
      "\n",
      "... Processing letter.mat ...\n",
      "Angle based outlier detector(ABOD) ROC:0.8804, precision @ rank n:0.3778, execution time: 0.3893s\n",
      "Cluster-based Loacl Outlier Factor ROC:0.7622, precision @ rank n:0.2667, execution time: 0.0919s\n",
      "Feature Bagging ROC:0.8536, precision @ rank n:0.3556, execution time: 0.7204s\n",
      "Histogram base outlier detection ROC:0.5871, precision @ rank n:0.0889, execution time: 0.008s\n",
      "Isolation Forest ROC:0.6212, precision @ rank n:0.1333, execution time: 0.3795s\n",
      "k Nearest Neighbours (kNN) ROC:0.861, precision @ rank n:0.3111, execution time: 0.1355s\n",
      "Local Outlier Factor(LOF) ROC:0.8484, precision @ rank n:0.3556, execution time: 0.1119s\n",
      "Minimun Covariance Determinant (MCD) ROC:0.8006, precision @ rank n:0.2, execution time: 1.1731s\n",
      "One-Class SVM (OCSVM) ROC:0.6162, precision @ rank n:0.1778, execution time: 0.0954s\n",
      "Principal Component Analysis ROC:0.5385, precision @ rank n:0.1111, execution time: 0.008s\n",
      "\n",
      "... Processing lympho.mat ...\n",
      "Angle based outlier detector(ABOD) ROC:0.8973, precision @ rank n:0.75, execution time: 0.024s\n",
      "Cluster-based Loacl Outlier Factor ROC:0.9821, precision @ rank n:0.75, execution time: 0.0361s\n",
      "Feature Bagging ROC:0.9821, precision @ rank n:0.75, execution time: 0.0467s\n",
      "Histogram base outlier detection ROC:1.0, precision @ rank n:1.0, execution time: 0.008s\n",
      "Isolation Forest ROC:1.0, precision @ rank n:1.0, execution time: 0.269s\n",
      "k Nearest Neighbours (kNN) ROC:0.9598, precision @ rank n:0.75, execution time: 0.004s\n",
      "Local Outlier Factor(LOF) ROC:0.9821, precision @ rank n:0.75, execution time: 0.004s\n",
      "Minimun Covariance Determinant (MCD) ROC:0.8884, precision @ rank n:0.75, execution time: 0.0311s\n",
      "One-Class SVM (OCSVM) ROC:0.9821, precision @ rank n:0.75, execution time: 0.004s\n",
      "Principal Component Analysis ROC:0.9911, precision @ rank n:0.75, execution time: 0.0032s\n",
      "\n",
      "... Processing mnist.mat ...\n",
      "Angle based outlier detector(ABOD) ROC:0.7949, precision @ rank n:0.3946, execution time: 6.9996s\n",
      "Cluster-based Loacl Outlier Factor ROC:0.8162, precision @ rank n:0.3679, execution time: 1.0785s\n",
      "Feature Bagging ROC:0.7412, precision @ rank n:0.3679, execution time: 44.2285s\n",
      "Histogram base outlier detection ROC:0.5885, precision @ rank n:0.1237, execution time: 0.0519s\n",
      "Isolation Forest ROC:0.8214, precision @ rank n:0.2977, execution time: 2.5875s\n",
      "k Nearest Neighbours (kNN) ROC:0.856, precision @ rank n:0.4381, execution time: 7.2028s\n",
      "Local Outlier Factor(LOF) ROC:0.7227, precision @ rank n:0.3545, execution time: 6.2034s\n"
     ]
    },
    {
     "name": "stderr",
     "output_type": "stream",
     "text": [
      "C:\\Users\\hp\\anaconda3\\lib\\site-packages\\sklearn\\covariance\\_robust_covariance.py:644: UserWarning: The covariance matrix associated to your dataset is not full rank\n",
      "  warnings.warn(\"The covariance matrix associated to your dataset \"\n"
     ]
    }
   ],
   "source": [
    "#Exploring/Accessing all mat files\n",
    "from time import time\n",
    "random_state = np.random.RandomState(42)\n",
    "\n",
    "\n",
    "for mat_file in mat_file_list:\n",
    "    print(\"\\n... Processing\", mat_file, \"...\")\n",
    "    mat = loadmat(os.path.join(mat_file))\n",
    "    \n",
    "    X = mat[\"X\"]\n",
    "    y = mat[\"y\"].ravel()\n",
    "    \n",
    "    outliers_fraction = np.count_nonzero(y)/len(y)\n",
    "    outliers_percentage = round(outliers_fraction*100, ndigits=4)\n",
    "    \n",
    "    #construct containers for saving results\n",
    "    roc_list = [mat_file[:-4],X.shape[0],X.shape[1], outliers_percentage]\n",
    "    prn_list = [mat_file[:-4],X.shape[0],X.shape[1], outliers_percentage]\n",
    "    time_list = [mat_file[:-4],X.shape[0],X.shape[1], outliers_percentage]\n",
    "    \n",
    "    #60% data for training and 40% for testing\n",
    "    X_train,X_test,y_train,y_test = train_test_split(X,y,test_size=0.4,random_state = 2)\n",
    "    \n",
    "    # STandardaizing data for preprocessing\n",
    "    X_train_norm,  X_test_norm = standardizer(X_train,X_test)\n",
    "    \n",
    "    classifiers = {\n",
    "                   \"Angle based outlier detector(ABOD)\":ABOD(contamination = outliers_fraction), #contamination based on what factors the data is considered as outliers\n",
    "                   \"Cluster-based Loacl Outlier Factor\":CBLOF(contamination = outliers_fraction,check_estimator= False, random_state=random_state),\n",
    "                   \"Feature Bagging\":FeatureBagging(contamination = outliers_fraction,random_state=random_state),\n",
    "                   \"Histogram base outlier detection\": HBOS(contamination = outliers_fraction),\n",
    "                   \"Isolation Forest\": IForest(contamination = outliers_fraction,random_state=random_state),\n",
    "                   \"k Nearest Neighbours (kNN)\": KNN(contamination = outliers_fraction),\n",
    "                   \"Local Outlier Factor(LOF)\": LOF(contamination = outliers_fraction),\n",
    "                   \"Minimun Covariance Determinant (MCD)\": MCD(contamination = outliers_fraction, random_state=random_state),\n",
    "                   \"One-Class SVM (OCSVM)\": OCSVM(contamination = outliers_fraction),\n",
    "                   \"Principal Component Analysis\": PCA(contamination = outliers_fraction,random_state=random_state)\n",
    "                  }\n",
    "                   \n",
    "    for clf_name,clf in classifiers.items():\n",
    "        t0 =time ()\n",
    "        clf.fit(X_train_norm)\n",
    "        test_scores = clf.decision_function(X_test_norm)\n",
    "        t1 = time()\n",
    "        duration = round(t1-t0, ndigits=4)\n",
    "        time_list.append(duration)\n",
    "                        \n",
    "        roc = round(roc_auc_score(y_test,test_scores),ndigits = 4)\n",
    "        prn = round(precision_n_scores(y_test,test_scores),ndigits = 4)\n",
    "                        \n",
    "        print(\"{clf_name} ROC:{roc}, precision @ rank n:{prn}, execution time: {duration}s\".\n",
    "                              format(clf_name=clf_name, roc =roc, prn = prn, duration = duration))\n",
    "        roc_list.append(roc)\n",
    "        prn_list.append(prn)\n",
    "                        \n",
    "    temp_df = pd.DataFrame(time_list).transpose()\n",
    "    temp_df_columns = df_columns\n",
    "    time_df = pd.concat([time_df,temp_df],axis=0)\n",
    "    \n",
    "    temp_df = pd.DataFrame(roc_list).transpose()\n",
    "    temp_df_columns = df_columns\n",
    "    roc_df = pd.concat([roc_df,temp_df],axis=0)\n",
    "    \n",
    "    temp_df = pd.DataFrame(prn_list).transpose()\n",
    "    temp_df_columns = df_columns\n",
    "    prn_df = pd.concat([prn_df,temp_df],axis=0)"
   ]
  }
 ],
 "metadata": {
  "kernelspec": {
   "display_name": "Python 3",
   "language": "python",
   "name": "python3"
  },
  "language_info": {
   "codemirror_mode": {
    "name": "ipython",
    "version": 3
   },
   "file_extension": ".py",
   "mimetype": "text/x-python",
   "name": "python",
   "nbconvert_exporter": "python",
   "pygments_lexer": "ipython3",
   "version": "3.7.6"
  }
 },
 "nbformat": 4,
 "nbformat_minor": 4
}
