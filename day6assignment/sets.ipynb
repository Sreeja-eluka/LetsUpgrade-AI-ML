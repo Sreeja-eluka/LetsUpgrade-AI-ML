{
 "cells": [
  {
   "cell_type": "markdown",
   "metadata": {},
   "source": [
    "# SETS"
   ]
  },
  {
   "cell_type": "markdown",
   "metadata": {},
   "source": [
    "1.set is collection of unordered and unindexed items,where every item is unique \n",
    "<br>sets are immutable in nature but we can add or remove items<br>we use curly braces to represent them<br><br>\n",
    "you can see the putput order is not same as the input order,therefore unordered\n"
   ]
  },
  {
   "cell_type": "code",
   "execution_count": 2,
   "metadata": {},
   "outputs": [
    {
     "name": "stdout",
     "output_type": "stream",
     "text": [
      "{'chicken', 'sreeja', 'apple'}\n"
     ]
    }
   ],
   "source": [
    "set1={\"sreeja\",\"apple\",\"chicken\"}\n",
    "print(set1)"
   ]
  },
  {
   "cell_type": "markdown",
   "metadata": {},
   "source": [
    "checking if item is in set or not:"
   ]
  },
  {
   "cell_type": "code",
   "execution_count": 6,
   "metadata": {},
   "outputs": [
    {
     "name": "stdout",
     "output_type": "stream",
     "text": [
      "True\n"
     ]
    }
   ],
   "source": [
    "set1={\"apple\",\"banana\",\"orange\",\"grapes\"}\n",
    "print('orange' in set1)"
   ]
  },
  {
   "cell_type": "markdown",
   "metadata": {},
   "source": [
    "accessing: you cannot acces by using indexes(no indexesfor set infact) but can traverse through set using for loop"
   ]
  },
  {
   "cell_type": "code",
   "execution_count": 9,
   "metadata": {},
   "outputs": [
    {
     "name": "stdout",
     "output_type": "stream",
     "text": [
      "grapes\n",
      "banana\n",
      "apple\n",
      "orange\n"
     ]
    }
   ],
   "source": [
    "set1={\"apple\",\"banana\",\"orange\",\"grapes\"}\n",
    "for i in set1:\n",
    "    print(i)"
   ]
  },
  {
   "cell_type": "markdown",
   "metadata": {},
   "source": [
    "you cannot change items in set but can add and remove items:<br>uh can add using two methods<br><br>add():\n"
   ]
  },
  {
   "cell_type": "code",
   "execution_count": 10,
   "metadata": {},
   "outputs": [
    {
     "name": "stdout",
     "output_type": "stream",
     "text": [
      "{'grapes', 'mango', 'banana', 'orange', 'apple'}\n"
     ]
    }
   ],
   "source": [
    "set1={\"apple\",\"banana\",\"orange\",\"grapes\"}\n",
    "set1.add(\"mango\")\n",
    "print(set1)"
   ]
  },
  {
   "cell_type": "markdown",
   "metadata": {},
   "source": [
    "using update():"
   ]
  },
  {
   "cell_type": "code",
   "execution_count": 12,
   "metadata": {},
   "outputs": [
    {
     "name": "stdout",
     "output_type": "stream",
     "text": [
      "{'grapes', 'mango', 'banana', 'orange', 'apple', 'strawberry'}\n"
     ]
    }
   ],
   "source": [
    "set1={\"apple\",\"banana\",\"orange\",\"grapes\"}\n",
    "set1.update([\"mango\",\"strawberry\"])\n",
    "print(set1)"
   ]
  },
  {
   "cell_type": "markdown",
   "metadata": {},
   "source": [
    "to find length of set :"
   ]
  },
  {
   "cell_type": "code",
   "execution_count": 13,
   "metadata": {},
   "outputs": [
    {
     "name": "stdout",
     "output_type": "stream",
     "text": [
      "4\n"
     ]
    }
   ],
   "source": [
    "set1={\"apple\",\"banana\",\"orange\",\"grapes\"}\n",
    "print(len(set1))"
   ]
  },
  {
   "cell_type": "markdown",
   "metadata": {},
   "source": [
    "remove items: you can use remove() or discard() or pop():\n"
   ]
  },
  {
   "cell_type": "code",
   "execution_count": 14,
   "metadata": {},
   "outputs": [
    {
     "name": "stdout",
     "output_type": "stream",
     "text": [
      "{'grapes', 'banana', 'orange'}\n"
     ]
    }
   ],
   "source": [
    "set1={\"apple\",\"banana\",\"orange\",\"grapes\"}\n",
    "set1.remove(\"apple\")\n",
    "print(set1)"
   ]
  },
  {
   "cell_type": "code",
   "execution_count": 15,
   "metadata": {},
   "outputs": [
    {
     "name": "stdout",
     "output_type": "stream",
     "text": [
      "{'grapes', 'banana', 'apple'}\n"
     ]
    }
   ],
   "source": [
    "set1={\"apple\",\"banana\",\"orange\",\"grapes\"}\n",
    "set1.discard(\"orange\")\n",
    "print(set1)"
   ]
  },
  {
   "cell_type": "code",
   "execution_count": 20,
   "metadata": {},
   "outputs": [
    {
     "name": "stdout",
     "output_type": "stream",
     "text": [
      "grapes\n",
      "{'banana', 'apple', 'orange'}\n"
     ]
    }
   ],
   "source": [
    "set1={\"apple\",\"banana\",\"orange\",\"grapes\"}\n",
    "x=set1.pop()\n",
    "print(x)\n",
    "print(set1)"
   ]
  },
  {
   "cell_type": "markdown",
   "metadata": {},
   "source": [
    "we can empty the set:"
   ]
  },
  {
   "cell_type": "code",
   "execution_count": 21,
   "metadata": {},
   "outputs": [
    {
     "name": "stdout",
     "output_type": "stream",
     "text": [
      "set()\n"
     ]
    }
   ],
   "source": [
    "set1={\"apple\",\"banana\",\"orange\",\"grapes\"}\n",
    "set1.clear()\n",
    "print(set1)"
   ]
  },
  {
   "cell_type": "markdown",
   "metadata": {},
   "source": [
    "we can del set completely and therefore when we print we will get an error"
   ]
  },
  {
   "cell_type": "code",
   "execution_count": 24,
   "metadata": {},
   "outputs": [
    {
     "ename": "NameError",
     "evalue": "name 'set1' is not defined",
     "output_type": "error",
     "traceback": [
      "\u001b[1;31m---------------------------------------------------------------------------\u001b[0m",
      "\u001b[1;31mNameError\u001b[0m                                 Traceback (most recent call last)",
      "\u001b[1;32m<ipython-input-24-7749b64714c8>\u001b[0m in \u001b[0;36m<module>\u001b[1;34m\u001b[0m\n\u001b[0;32m      1\u001b[0m \u001b[0mset1\u001b[0m\u001b[1;33m=\u001b[0m\u001b[1;33m{\u001b[0m\u001b[1;34m\"apple\"\u001b[0m\u001b[1;33m,\u001b[0m\u001b[1;34m\"banana\"\u001b[0m\u001b[1;33m,\u001b[0m\u001b[1;34m\"orange\"\u001b[0m\u001b[1;33m,\u001b[0m\u001b[1;34m\"grapes\"\u001b[0m\u001b[1;33m}\u001b[0m\u001b[1;33m\u001b[0m\u001b[1;33m\u001b[0m\u001b[0m\n\u001b[0;32m      2\u001b[0m \u001b[1;32mdel\u001b[0m \u001b[0mset1\u001b[0m\u001b[1;33m\u001b[0m\u001b[1;33m\u001b[0m\u001b[0m\n\u001b[1;32m----> 3\u001b[1;33m \u001b[0mprint\u001b[0m\u001b[1;33m(\u001b[0m\u001b[0mset1\u001b[0m\u001b[1;33m)\u001b[0m\u001b[1;33m\u001b[0m\u001b[1;33m\u001b[0m\u001b[0m\n\u001b[0m",
      "\u001b[1;31mNameError\u001b[0m: name 'set1' is not defined"
     ]
    }
   ],
   "source": [
    "set1={\"apple\",\"banana\",\"orange\",\"grapes\"}\n",
    "del set1\n",
    "print(set1)"
   ]
  },
  {
   "cell_type": "markdown",
   "metadata": {},
   "source": [
    "you can join two sets using union:(they exclude duplicate items)unique\n"
   ]
  },
  {
   "cell_type": "code",
   "execution_count": 25,
   "metadata": {},
   "outputs": [
    {
     "name": "stdout",
     "output_type": "stream",
     "text": [
      "{'grapes', 'mango', 'apple', 'strawberry', 'banana', 'orange'}\n"
     ]
    }
   ],
   "source": [
    "set1={\"apple\",\"banana\",\"orange\",\"grapes\"}\n",
    "set2={\"mango\",\"strawberry\"}\n",
    "set3=set1.union(set2)\n",
    "print(set3)"
   ]
  },
  {
   "cell_type": "code",
   "execution_count": 27,
   "metadata": {},
   "outputs": [
    {
     "name": "stdout",
     "output_type": "stream",
     "text": [
      "{'grapes', 'mango', 'apple', 'strawberry', 'banana', 'orange'}\n",
      "{'mango', 'apple', 'strawberry'}\n"
     ]
    }
   ],
   "source": [
    "set1={\"apple\",\"banana\",\"orange\",\"grapes\"}\n",
    "set2={\"apple\",\"mango\",\"strawberry\"}\n",
    "set1.update(set2)\n",
    "print(set1)\n",
    "print(set2)"
   ]
  },
  {
   "cell_type": "code",
   "execution_count": 28,
   "metadata": {},
   "outputs": [
    {
     "name": "stdout",
     "output_type": "stream",
     "text": [
      "<class 'set'>\n",
      "{'grape', 'mango', 'apple', 'orange'}\n"
     ]
    }
   ],
   "source": [
    "set1=set((\"apple\",\"grape\",\"orange\",\"mango\"))\n",
    "print(type(set1))\n",
    "print(set1)"
   ]
  },
  {
   "cell_type": "code",
   "execution_count": null,
   "metadata": {},
   "outputs": [],
   "source": []
  },
  {
   "cell_type": "code",
   "execution_count": 41,
   "metadata": {},
   "outputs": [
    {
     "name": "stdout",
     "output_type": "stream",
     "text": [
      "difference between two sets is: {'grapes', 'orange'}\n",
      "update by excluding similar items: {'mango', 'strawberry'}\n",
      "similar items: True\n"
     ]
    }
   ],
   "source": [
    "set1={\"apple\",\"banana\",\"orange\",\"grapes\"}\n",
    "set2={\"mango\",\"strawberry\",\"apple\",\"banana\"}\n",
    "print(\"difference between two sets is:\",set1.difference(set2))\n",
    "set2.difference_update(set1)\n",
    "print(\"update by excluding similar items:\",set2)\n",
    "print(\"similar items:\",set1.isdisjoint(set2))"
   ]
  },
  {
   "cell_type": "code",
   "execution_count": null,
   "metadata": {},
   "outputs": [],
   "source": []
  },
  {
   "cell_type": "code",
   "execution_count": null,
   "metadata": {},
   "outputs": [],
   "source": []
  }
 ],
 "metadata": {
  "kernelspec": {
   "display_name": "Python 3",
   "language": "python",
   "name": "python3"
  },
  "language_info": {
   "codemirror_mode": {
    "name": "ipython",
    "version": 3
   },
   "file_extension": ".py",
   "mimetype": "text/x-python",
   "name": "python",
   "nbconvert_exporter": "python",
   "pygments_lexer": "ipython3",
   "version": "3.7.6"
  }
 },
 "nbformat": 4,
 "nbformat_minor": 4
}
