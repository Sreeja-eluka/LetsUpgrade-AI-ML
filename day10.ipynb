{
 "cells": [
  {
   "cell_type": "markdown",
   "metadata": {},
   "source": [
    "#LIST OF HYPOTHESIS ON REASONS FOR ATTRITION"
   ]
  },
  {
   "cell_type": "markdown",
   "metadata": {},
   "source": [
    "1.Graduates who joined as freshers with mean age of 22 leave company after working for mean period of 2.5 years beacause of low frequent promotion rates<br><br>2.  Female employees who are far away from home    leaving company because of time management issue<br><br>3.  It is observed that 25% of employees who changed more than 4 companies in span of five years leaved the company because they get bored after one year<br><br>4.  Employees who have highest study qualifiacation as masters and having mean experience of 8.5 years  leaving for startup ideas \n",
    "<br><br>5.  65% of married female left the company whose marital status is married and salary less than mean salary<br><br>6.  Employees having job levels less than or equal to 3 are having higher attrition rate<br><br>7.  45% of employees whose training time is less and work life balance less than 3 left company<br><br>8.  It is found out that emploees with performance rating for last year  more than 2 and number of   working years under current manager is high stayed in the company<br><br>9.  Employees of age more than 45 and work involvements levels low has high atttrition rate <br><br>10.  Employees with work environment satisfaction levels 4 stayed in the company\n"
   ]
  },
  {
   "cell_type": "code",
   "execution_count": null,
   "metadata": {},
   "outputs": [],
   "source": []
  }
 ],
 "metadata": {
  "kernelspec": {
   "display_name": "Python 3",
   "language": "python",
   "name": "python3"
  },
  "language_info": {
   "codemirror_mode": {
    "name": "ipython",
    "version": 3
   },
   "file_extension": ".py",
   "mimetype": "text/x-python",
   "name": "python",
   "nbconvert_exporter": "python",
   "pygments_lexer": "ipython3",
   "version": "3.7.6"
  }
 },
 "nbformat": 4,
 "nbformat_minor": 4
}
