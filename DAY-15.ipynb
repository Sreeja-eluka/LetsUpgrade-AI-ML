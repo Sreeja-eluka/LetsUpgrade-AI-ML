{
 "cells": [
  {
   "cell_type": "code",
   "execution_count": 2,
   "metadata": {},
   "outputs": [],
   "source": [
    "import numpy as np "
   ]
  },
  {
   "cell_type": "markdown",
   "metadata": {},
   "source": [
    "# 1. Create a 3x3x3 array with random values "
   ]
  },
  {
   "cell_type": "code",
   "execution_count": 5,
   "metadata": {},
   "outputs": [
    {
     "data": {
      "text/plain": [
       "array([[[0.76732783, 0.19755095, 0.38571839],\n",
       "        [0.98370739, 0.33617983, 0.21524812],\n",
       "        [0.32162076, 0.50127579, 0.89379631]],\n",
       "\n",
       "       [[0.64622111, 0.85481231, 0.02829863],\n",
       "        [0.34037394, 0.68882766, 0.95875609],\n",
       "        [0.13893559, 0.69054914, 0.71534278]],\n",
       "\n",
       "       [[0.89005087, 0.34037897, 0.51524317],\n",
       "        [0.04621529, 0.24760505, 0.30086074],\n",
       "        [0.24220791, 0.54898067, 0.18776217]]])"
      ]
     },
     "execution_count": 5,
     "metadata": {},
     "output_type": "execute_result"
    }
   ],
   "source": [
    "S=np.random.rand(3,3,3)\n",
    "S"
   ]
  },
  {
   "cell_type": "markdown",
   "metadata": {},
   "source": [
    "# 2.Create a 5x5 matrix with values 1,2,3,4 just below the diagonal"
   ]
  },
  {
   "cell_type": "code",
   "execution_count": 18,
   "metadata": {},
   "outputs": [
    {
     "data": {
      "text/plain": [
       "array([[0, 0, 0, 0, 0],\n",
       "       [1, 0, 0, 0, 0],\n",
       "       [0, 2, 0, 0, 0],\n",
       "       [0, 0, 3, 0, 0],\n",
       "       [0, 0, 0, 4, 0]])"
      ]
     },
     "execution_count": 18,
     "metadata": {},
     "output_type": "execute_result"
    }
   ],
   "source": [
    "a=np.diag(1+np.arange(4), k = -1)\n",
    "a\n"
   ]
  },
  {
   "cell_type": "markdown",
   "metadata": {},
   "source": [
    "# 3.Create a 8x8 matrix and fill it with a checkerboard pattern"
   ]
  },
  {
   "cell_type": "code",
   "execution_count": 32,
   "metadata": {},
   "outputs": [
    {
     "name": "stdout",
     "output_type": "stream",
     "text": [
      "[[0. 1. 0. 1. 0. 1. 0. 1.]\n",
      " [1. 0. 1. 0. 1. 0. 1. 0.]\n",
      " [0. 1. 0. 1. 0. 1. 0. 1.]\n",
      " [1. 0. 1. 0. 1. 0. 1. 0.]\n",
      " [0. 1. 0. 1. 0. 1. 0. 1.]\n",
      " [1. 0. 1. 0. 1. 0. 1. 0.]\n",
      " [0. 1. 0. 1. 0. 1. 0. 1.]\n",
      " [1. 0. 1. 0. 1. 0. 1. 0.]]\n"
     ]
    }
   ],
   "source": [
    "a=np.zeros((8,8))\n",
    "a[1::2, ::2]= 1\n",
    "a[::2, 1::2] = 1\n",
    "print(a)"
   ]
  },
  {
   "cell_type": "markdown",
   "metadata": {},
   "source": [
    "# 4. Normalize a 5x5 random matrix"
   ]
  },
  {
   "cell_type": "code",
   "execution_count": 37,
   "metadata": {},
   "outputs": [
    {
     "name": "stdout",
     "output_type": "stream",
     "text": [
      "original matrix:\n",
      " [[0.30351854 0.34154743 0.10149474 0.38378742 0.53870624]\n",
      " [0.84416882 0.14404478 0.92855363 0.90456885 0.44532981]\n",
      " [0.79746616 0.87576664 0.66003693 0.42778169 0.69841004]\n",
      " [0.94176857 0.82703297 0.95142617 0.50520321 0.16668052]\n",
      " [0.8227237  0.28956114 0.48668691 0.12681216 0.3862886 ]]\n",
      "Normalised matrix:\n",
      " [[0.23769423 0.28243771 0.         0.33213583 0.51440796]\n",
      " [0.8738047  0.05006291 0.97308896 0.9448693  0.40454448]\n",
      " [0.81885596 0.9109816  0.65716147 0.38389796 0.70230995]\n",
      " [0.9886372  0.85364325 1.         0.47498946 0.07669534]\n",
      " [0.84857312 0.22127243 0.45320381 0.02978759 0.33507863]]\n"
     ]
    }
   ],
   "source": [
    "a=np.random.rand(5,5)\n",
    "print(\"original matrix:\\n\",a)\n",
    "amax,amin=a.max(),a.min()\n",
    "a=(a-amin)/(amax-amin)\n",
    "print(\"Normalised matrix:\\n\",a)"
   ]
  },
  {
   "cell_type": "markdown",
   "metadata": {},
   "source": [
    "# 5.  How to find common values between two arrays?"
   ]
  },
  {
   "cell_type": "code",
   "execution_count": 48,
   "metadata": {},
   "outputs": [
    {
     "name": "stdout",
     "output_type": "stream",
     "text": [
      "a:\n",
      " [[ 1 22 43]\n",
      " [56  0  3]] \n",
      "b:\n",
      " [[22  0 76]\n",
      " [ 5  4  9]] \n",
      "\n",
      "common values:\n",
      "[ 0 22]\n"
     ]
    }
   ],
   "source": [
    "a=np.array([[1,22,43],[56,0,3]])\n",
    "b=np.array([[22,0,76],[5,4,9]])\n",
    "print(\"a:\\n\",a,\"\\nb:\\n\",b,\"\\n\\ncommon values:\")\n",
    "c=np.intersect1d(a,b)\n",
    "print(c)"
   ]
  },
  {
   "cell_type": "markdown",
   "metadata": {},
   "source": [
    "# 6.How to get the dates of yesterday, today and tomorrow?"
   ]
  },
  {
   "cell_type": "code",
   "execution_count": 49,
   "metadata": {},
   "outputs": [
    {
     "name": "stdout",
     "output_type": "stream",
     "text": [
      "Yestraday:  2020-07-27\n",
      "Today:  2020-07-28\n",
      "Tomorrow:  2020-07-29\n"
     ]
    }
   ],
   "source": [
    "import numpy as np\n",
    "yesterday = np.datetime64('today', 'D') - np.timedelta64(1, 'D')\n",
    "print(\"Yestraday: \",yesterday)\n",
    "today     = np.datetime64('today', 'D')\n",
    "print(\"Today: \",today)\n",
    "tomorrow  = np.datetime64('today', 'D') + np.timedelta64(1, 'D')\n",
    "print(\"Tomorrow: \",tomorrow)\n"
   ]
  },
  {
   "cell_type": "markdown",
   "metadata": {},
   "source": [
    "# 7. Consider two random array A and B, check if they are equal"
   ]
  },
  {
   "cell_type": "code",
   "execution_count": 59,
   "metadata": {},
   "outputs": [
    {
     "name": "stdout",
     "output_type": "stream",
     "text": [
      "True\n"
     ]
    }
   ],
   "source": [
    "a=np.array([1,33,4])\n",
    "b=np.array([1,33,4])\n",
    "c=np.allclose(a,b)\n",
    "print(c)\n"
   ]
  },
  {
   "cell_type": "markdown",
   "metadata": {},
   "source": [
    "# 8.Create random vector of size 10 and replace the maximum value by 0 "
   ]
  },
  {
   "cell_type": "code",
   "execution_count": 71,
   "metadata": {},
   "outputs": [
    {
     "name": "stdout",
     "output_type": "stream",
     "text": [
      "[56 98 88  1 22 43 66 89 44 65]\n",
      "replacing max element with 0:\n",
      " [56  0 88  1 22 43 66 89 44 65]\n"
     ]
    }
   ],
   "source": [
    "a=np.array([56,98,88,1,22,43,66,89,44,65])\n",
    "print(a)\n",
    "a[a.argmax()]=0\n",
    "print(\"replacing max element with 0:\\n\",a)\n",
    "\n"
   ]
  },
  {
   "cell_type": "markdown",
   "metadata": {},
   "source": [
    "# 9. How to print all the values of an array?"
   ]
  },
  {
   "cell_type": "code",
   "execution_count": 4,
   "metadata": {},
   "outputs": [
    {
     "name": "stdout",
     "output_type": "stream",
     "text": [
      "[ 0  1  2  3  4  5  6  7  8  9 10 11 12 13 14 15 16 17 18 19 20 21 22 23\n",
      " 24]\n"
     ]
    }
   ],
   "source": [
    "np.set_printoptions(threshold=np.inf)\n",
    "Z = np.arange(25)\n",
    "print(Z)\n",
    "\n",
    "\n",
    "\n",
    "\n",
    "\n"
   ]
  },
  {
   "cell_type": "markdown",
   "metadata": {},
   "source": [
    "# 10.Subtract the mean of each row of a matrix"
   ]
  },
  {
   "cell_type": "code",
   "execution_count": 5,
   "metadata": {},
   "outputs": [
    {
     "name": "stdout",
     "output_type": "stream",
     "text": [
      "Original matrix:\n",
      " [[ 2  3  4]\n",
      " [ 5  6  7]\n",
      " [ 8  9 10]]\n",
      "\n",
      "Subtract the mean of each row of the said matrix:\n",
      "\n",
      "[[-1.  0.  1.]\n",
      " [-1.  0.  1.]\n",
      " [-1.  0.  1.]]\n"
     ]
    }
   ],
   "source": [
    "a=np.arange(2,11).reshape(3,3)\n",
    "print(\"Original matrix:\\n\",a)\n",
    "print(\"\\nSubtract the mean of each row of the said matrix:\\n\")\n",
    "Y = a - a.mean(axis=1, keepdims=True)\n",
    "print(Y)\n"
   ]
  },
  {
   "cell_type": "markdown",
   "metadata": {},
   "source": [
    "# 11.Consider a given vector, how to add 1 to each element indexed by a second vector (be careful with repeated indices)? "
   ]
  },
  {
   "cell_type": "code",
   "execution_count": 38,
   "metadata": {},
   "outputs": [
    {
     "name": "stdout",
     "output_type": "stream",
     "text": [
      "Given vector: [1 2 3 2 6 1 3 5 5 3]\n",
      "Indexing vector: [0 0 0 0 0 1 2 2 4 4]\n",
      "Result: [2 3 4 2 7 1 3 5 5 3]\n"
     ]
    }
   ],
   "source": [
    "a = np.random.randint(1,10,10)\n",
    "print(\"Given vector:\", a)\n",
    "b = np.random.randint(a)\n",
    "c = []\n",
    "b.sort()\n",
    "for i in b:\n",
    "    if i not in c:\n",
    "        c.append(i)\n",
    "\n",
    "for j in c:\n",
    "    a[j] += 1\n",
    "\n",
    "print(\"Indexing vector:\", b)\n",
    "print(\"Result:\",a)"
   ]
  },
  {
   "cell_type": "markdown",
   "metadata": {},
   "source": [
    "# 12.How to get the diagonal of a dot product?"
   ]
  },
  {
   "cell_type": "code",
   "execution_count": 12,
   "metadata": {},
   "outputs": [
    {
     "name": "stdout",
     "output_type": "stream",
     "text": [
      "dot product of a and b is:\n",
      " [[16 19]\n",
      " [36 43]]\n",
      "\n",
      "diagonal of dot product is: [16 43]\n"
     ]
    }
   ],
   "source": [
    "A=[[1,2],[3,4]]\n",
    "B=[[4,5],[6,7]]\n",
    "c = np.dot(A,B)\n",
    "print(\"dot product of a and b is:\\n\",c)\n",
    "c=np.diag(c)\n",
    "print(\"\\ndiagonal of dot product is:\",c)\n"
   ]
  },
  {
   "cell_type": "markdown",
   "metadata": {},
   "source": [
    "# 13.How to find the most frequent value in an array?"
   ]
  },
  {
   "cell_type": "code",
   "execution_count": 34,
   "metadata": {},
   "outputs": [
    {
     "name": "stdout",
     "output_type": "stream",
     "text": [
      "[ 8 12  4  8 11  4  6  6  8  5]\n",
      "8\n"
     ]
    }
   ],
   "source": [
    "a=np.random.randint(2,15,10)\n",
    "print(a)\n",
    "print(np.bincount(a).argmax())\n"
   ]
  },
  {
   "cell_type": "markdown",
   "metadata": {},
   "source": [
    "# 14.How to get the n largest values of an array"
   ]
  },
  {
   "cell_type": "code",
   "execution_count": 35,
   "metadata": {},
   "outputs": [
    {
     "name": "stdout",
     "output_type": "stream",
     "text": [
      "Original array:\n",
      "[0 1 2 3 4 5 6 7 8 9]\n",
      "[7 8 9]\n"
     ]
    }
   ],
   "source": [
    "x = np.arange(10)\n",
    "print(\"Original array:\")\n",
    "print(x)\n",
    "np.random.shuffle(x)\n",
    "n = 3\n",
    "print (x[np.argsort(x)[-n:]])\n"
   ]
  },
  {
   "cell_type": "markdown",
   "metadata": {},
   "source": [
    "# 15.How to create a record array from a regular array?"
   ]
  },
  {
   "cell_type": "code",
   "execution_count": 36,
   "metadata": {},
   "outputs": [
    {
     "name": "stdout",
     "output_type": "stream",
     "text": [
      "(2, 'dd', 2.)\n",
      "['a' 'dd' 'xyz' '12']\n"
     ]
    }
   ],
   "source": [
    "x1=np.array([1,2,3,4])\n",
    "x2=np.array(['a','dd','xyz','12'])\n",
    "x3=np.array([1.1,2,3,4])\n",
    "r = np.core.records.fromarrays([x1,x2,x3],names='a,b,c')\n",
    "print(r[1])\n",
    "print(r.b)"
   ]
  }
 ],
 "metadata": {
  "kernelspec": {
   "display_name": "Python 3",
   "language": "python",
   "name": "python3"
  },
  "language_info": {
   "codemirror_mode": {
    "name": "ipython",
    "version": 3
   },
   "file_extension": ".py",
   "mimetype": "text/x-python",
   "name": "python",
   "nbconvert_exporter": "python",
   "pygments_lexer": "ipython3",
   "version": "3.7.6"
  }
 },
 "nbformat": 4,
 "nbformat_minor": 2
}
