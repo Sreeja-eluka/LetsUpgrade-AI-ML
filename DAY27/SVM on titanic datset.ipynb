{
 "cells": [
  {
   "cell_type": "code",
   "execution_count": 1,
   "metadata": {},
   "outputs": [],
   "source": [
    "import pandas as pd \n",
    "from sklearn import preprocessing\n",
    "from sklearn.model_selection import train_test_split"
   ]
  },
  {
   "cell_type": "code",
   "execution_count": 3,
   "metadata": {},
   "outputs": [
    {
     "data": {
      "text/html": [
       "<div>\n",
       "<style scoped>\n",
       "    .dataframe tbody tr th:only-of-type {\n",
       "        vertical-align: middle;\n",
       "    }\n",
       "\n",
       "    .dataframe tbody tr th {\n",
       "        vertical-align: top;\n",
       "    }\n",
       "\n",
       "    .dataframe thead th {\n",
       "        text-align: right;\n",
       "    }\n",
       "</style>\n",
       "<table border=\"1\" class=\"dataframe\">\n",
       "  <thead>\n",
       "    <tr style=\"text-align: right;\">\n",
       "      <th></th>\n",
       "      <th>PassengerId</th>\n",
       "      <th>Survived</th>\n",
       "      <th>Pclass</th>\n",
       "      <th>Name</th>\n",
       "      <th>Sex</th>\n",
       "      <th>Age</th>\n",
       "      <th>SibSp</th>\n",
       "      <th>Parch</th>\n",
       "      <th>Ticket</th>\n",
       "      <th>Fare</th>\n",
       "      <th>Cabin</th>\n",
       "      <th>Embarked</th>\n",
       "    </tr>\n",
       "  </thead>\n",
       "  <tbody>\n",
       "    <tr>\n",
       "      <th>0</th>\n",
       "      <td>1</td>\n",
       "      <td>0</td>\n",
       "      <td>3</td>\n",
       "      <td>Braund, Mr. Owen Harris</td>\n",
       "      <td>male</td>\n",
       "      <td>22.0</td>\n",
       "      <td>1</td>\n",
       "      <td>0</td>\n",
       "      <td>A/5 21171</td>\n",
       "      <td>7.2500</td>\n",
       "      <td>NaN</td>\n",
       "      <td>S</td>\n",
       "    </tr>\n",
       "    <tr>\n",
       "      <th>1</th>\n",
       "      <td>2</td>\n",
       "      <td>1</td>\n",
       "      <td>1</td>\n",
       "      <td>Cumings, Mrs. John Bradley (Florence Briggs Th...</td>\n",
       "      <td>female</td>\n",
       "      <td>38.0</td>\n",
       "      <td>1</td>\n",
       "      <td>0</td>\n",
       "      <td>PC 17599</td>\n",
       "      <td>71.2833</td>\n",
       "      <td>C85</td>\n",
       "      <td>C</td>\n",
       "    </tr>\n",
       "  </tbody>\n",
       "</table>\n",
       "</div>"
      ],
      "text/plain": [
       "   PassengerId  Survived  Pclass  \\\n",
       "0            1         0       3   \n",
       "1            2         1       1   \n",
       "\n",
       "                                                Name     Sex   Age  SibSp  \\\n",
       "0                            Braund, Mr. Owen Harris    male  22.0      1   \n",
       "1  Cumings, Mrs. John Bradley (Florence Briggs Th...  female  38.0      1   \n",
       "\n",
       "   Parch     Ticket     Fare Cabin Embarked  \n",
       "0      0  A/5 21171   7.2500   NaN        S  \n",
       "1      0   PC 17599  71.2833   C85        C  "
      ]
     },
     "execution_count": 3,
     "metadata": {},
     "output_type": "execute_result"
    }
   ],
   "source": [
    "df=pd.read_csv(\"train.csv\")\n",
    "df.head(2)"
   ]
  },
  {
   "cell_type": "code",
   "execution_count": 5,
   "metadata": {},
   "outputs": [
    {
     "data": {
      "text/plain": [
       "Index(['PassengerId', 'Survived', 'Pclass', 'Name', 'Sex', 'Age', 'SibSp',\n",
       "       'Parch', 'Ticket', 'Fare', 'Cabin', 'Embarked'],\n",
       "      dtype='object')"
      ]
     },
     "execution_count": 5,
     "metadata": {},
     "output_type": "execute_result"
    }
   ],
   "source": [
    "df.columns"
   ]
  },
  {
   "cell_type": "code",
   "execution_count": 7,
   "metadata": {},
   "outputs": [
    {
     "data": {
      "text/plain": [
       "(889, 12)"
      ]
     },
     "execution_count": 7,
     "metadata": {},
     "output_type": "execute_result"
    }
   ],
   "source": [
    "df.shape"
   ]
  },
  {
   "cell_type": "code",
   "execution_count": 8,
   "metadata": {},
   "outputs": [
    {
     "data": {
      "text/plain": [
       "PassengerId      0\n",
       "Survived         0\n",
       "Pclass           0\n",
       "Name             0\n",
       "Sex              0\n",
       "Age              0\n",
       "SibSp            0\n",
       "Parch            0\n",
       "Ticket           0\n",
       "Fare             0\n",
       "Cabin          687\n",
       "Embarked         0\n",
       "dtype: int64"
      ]
     },
     "execution_count": 8,
     "metadata": {},
     "output_type": "execute_result"
    }
   ],
   "source": [
    "df.isnull().sum()"
   ]
  },
  {
   "cell_type": "code",
   "execution_count": 9,
   "metadata": {},
   "outputs": [],
   "source": [
    "df.drop_duplicates(inplace=True)\n",
    "df.drop(columns=['Name','Ticket','PassengerId','Cabin'],inplace=True)"
   ]
  },
  {
   "cell_type": "code",
   "execution_count": 11,
   "metadata": {},
   "outputs": [
    {
     "data": {
      "text/plain": [
       "['Sex', 'Embarked']"
      ]
     },
     "execution_count": 11,
     "metadata": {},
     "output_type": "execute_result"
    }
   ],
   "source": [
    "all_categorical = []\n",
    "dtypes = df.dtypes\n",
    "for column,dtype in dtypes.items():\n",
    "    if dtype == 'object':\n",
    "        all_categorical.append(column)\n",
    "all_categorical"
   ]
  },
  {
   "cell_type": "code",
   "execution_count": 12,
   "metadata": {},
   "outputs": [],
   "source": [
    "labelEncoder =preprocessing.LabelEncoder()\n",
    "df['Sex'] = labelEncoder.fit_transform(df['Sex'] )\n",
    "df['Embarked'] = labelEncoder.fit_transform(df['Embarked'] )\n"
   ]
  },
  {
   "cell_type": "code",
   "execution_count": null,
   "metadata": {},
   "outputs": [],
   "source": []
  },
  {
   "cell_type": "markdown",
   "metadata": {},
   "source": [
    "**APPLYING SVM ALGORITHM:**"
   ]
  },
  {
   "cell_type": "code",
   "execution_count": 13,
   "metadata": {},
   "outputs": [],
   "source": [
    "from sklearn import svm\n",
    "from sklearn.metrics import confusion_matrix,accuracy_score"
   ]
  },
  {
   "cell_type": "code",
   "execution_count": 14,
   "metadata": {},
   "outputs": [
    {
     "name": "stdout",
     "output_type": "stream",
     "text": [
      "Here Survived is dependent variable and remaining are independent variables\n",
      "\n",
      "\n",
      "ACCURAY SCORE:\n",
      " 0.7415730337078652\n",
      "\n",
      "CONFUSION MATRIX:\n",
      " [[124  33]\n",
      " [ 36  74]]\n",
      "\n",
      "-----------------------------------------------------------------------------------\n",
      "Here Pclass is dependent variable and remaining are independent variables\n",
      "\n",
      "\n",
      "ACCURAY SCORE:\n",
      " 0.9026217228464419\n",
      "\n",
      "CONFUSION MATRIX:\n",
      " [[ 64   4   2]\n",
      " [  4  36   9]\n",
      " [  1   6 141]]\n",
      "\n",
      "-----------------------------------------------------------------------------------\n",
      "Here Sex is dependent variable and remaining are independent variables\n",
      "\n",
      "\n",
      "ACCURAY SCORE:\n",
      " 0.7265917602996255\n",
      "\n",
      "CONFUSION MATRIX:\n",
      " [[ 66  32]\n",
      " [ 41 128]]\n",
      "\n",
      "-----------------------------------------------------------------------------------\n",
      "Here SibSp is dependent variable and remaining are independent variables\n",
      "\n",
      "\n",
      "ACCURAY SCORE:\n",
      " 0.7490636704119851\n",
      "\n",
      "CONFUSION MATRIX:\n",
      " [[150  24   7   0   1   0   0]\n",
      " [ 21  39   5   0   0   0   0]\n",
      " [  4   1   3   0   0   0   0]\n",
      " [  0   2   1   3   1   0   0]\n",
      " [  0   0   0   0   2   0   0]\n",
      " [  0   0   0   0   0   1   0]\n",
      " [  0   0   0   0   0   0   2]]\n",
      "\n",
      "-----------------------------------------------------------------------------------\n",
      "Here Parch is dependent variable and remaining are independent variables\n",
      "\n",
      "\n",
      "ACCURAY SCORE:\n",
      " 0.797752808988764\n",
      "\n",
      "CONFUSION MATRIX:\n",
      " [[187   6   5   0   0   0]\n",
      " [ 21  15   3   0   0   1]\n",
      " [ 10   6  11   0   0   0]\n",
      " [  0   0   1   0   0   0]\n",
      " [  1   0   0   0   0   0]\n",
      " [  0   0   0   0   0   0]]\n",
      "\n",
      "-----------------------------------------------------------------------------------\n",
      "Here Embarked is dependent variable and remaining are independent variables\n",
      "\n",
      "\n",
      "ACCURAY SCORE:\n",
      " 0.7677902621722846\n",
      "\n",
      "CONFUSION MATRIX:\n",
      " [[ 23   2  24]\n",
      " [  0   8  14]\n",
      " [ 18   4 174]]\n",
      "\n",
      "-----------------------------------------------------------------------------------\n"
     ]
    }
   ],
   "source": [
    "def sv(col):\n",
    "    clf=svm.SVC(gamma=0.01,C=100)\n",
    "    for i in col:\n",
    "        print(f\"Here {i} is dependent variable and remaining are independent variables\\n\")\n",
    "        y=df[i]\n",
    "        x=df.drop([i],axis=1)\n",
    "        X_train, x_test, y_train, y_test = train_test_split(x, y, test_size =0.3, random_state=0)\n",
    "        model = clf.fit(X_train,y_train)\n",
    "        ypred=model.predict(x_test)\n",
    "        print(\"\\nACCURAY SCORE:\\n\",accuracy_score(y_test,ypred,normalize=True))\n",
    "        print(\"\\nCONFUSION MATRIX:\\n\",confusion_matrix(y_test,ypred))\n",
    "        print(\"\\n-----------------------------------------------------------------------------------\")\n",
    "column = ['Survived', 'Pclass', 'Sex', 'SibSp', 'Parch','Embarked']\n",
    "sv(column)           \n",
    "    "
   ]
  },
  {
   "cell_type": "code",
   "execution_count": 18,
   "metadata": {},
   "outputs": [
    {
     "data": {
      "text/html": [
       "<div>\n",
       "<style scoped>\n",
       "    .dataframe tbody tr th:only-of-type {\n",
       "        vertical-align: middle;\n",
       "    }\n",
       "\n",
       "    .dataframe tbody tr th {\n",
       "        vertical-align: top;\n",
       "    }\n",
       "\n",
       "    .dataframe thead th {\n",
       "        text-align: right;\n",
       "    }\n",
       "</style>\n",
       "<table border=\"1\" class=\"dataframe\">\n",
       "  <thead>\n",
       "    <tr style=\"text-align: right;\">\n",
       "      <th></th>\n",
       "      <th>Dependent Variable</th>\n",
       "      <th>AccuracyScore</th>\n",
       "      <th>CorrectPrediction</th>\n",
       "      <th>IncorrectPrediction</th>\n",
       "    </tr>\n",
       "  </thead>\n",
       "  <tbody>\n",
       "    <tr>\n",
       "      <th>0</th>\n",
       "      <td>Survived</td>\n",
       "      <td>74.15</td>\n",
       "      <td>198</td>\n",
       "      <td>69</td>\n",
       "    </tr>\n",
       "    <tr>\n",
       "      <th>1</th>\n",
       "      <td>Pclass</td>\n",
       "      <td>90.26</td>\n",
       "      <td>241</td>\n",
       "      <td>26</td>\n",
       "    </tr>\n",
       "    <tr>\n",
       "      <th>2</th>\n",
       "      <td>Sex</td>\n",
       "      <td>72.65</td>\n",
       "      <td>194</td>\n",
       "      <td>73</td>\n",
       "    </tr>\n",
       "    <tr>\n",
       "      <th>3</th>\n",
       "      <td>SibSp</td>\n",
       "      <td>74.90</td>\n",
       "      <td>200</td>\n",
       "      <td>67</td>\n",
       "    </tr>\n",
       "    <tr>\n",
       "      <th>4</th>\n",
       "      <td>Parch</td>\n",
       "      <td>79.77</td>\n",
       "      <td>213</td>\n",
       "      <td>54</td>\n",
       "    </tr>\n",
       "    <tr>\n",
       "      <th>5</th>\n",
       "      <td>Embarked</td>\n",
       "      <td>76.77</td>\n",
       "      <td>205</td>\n",
       "      <td>62</td>\n",
       "    </tr>\n",
       "  </tbody>\n",
       "</table>\n",
       "</div>"
      ],
      "text/plain": [
       "  Dependent Variable  AccuracyScore  CorrectPrediction  IncorrectPrediction\n",
       "0           Survived          74.15                198                   69\n",
       "1             Pclass          90.26                241                   26\n",
       "2                Sex          72.65                194                   73\n",
       "3              SibSp          74.90                200                   67\n",
       "4              Parch          79.77                213                   54\n",
       "5           Embarked          76.77                205                   62"
      ]
     },
     "execution_count": 18,
     "metadata": {},
     "output_type": "execute_result"
    }
   ],
   "source": [
    "scores={'Dependent Variable':['Survived', 'Pclass', 'Sex', 'SibSp', 'Parch','Embarked'],\n",
    "       'AccuracyScore':[0.7415*100,0.9026*100,0.7265*100,0.7490*100,0.7977*100,0.7677*100],\n",
    "       'CorrectPrediction':[198,241,194,200,213,205] ,\n",
    "       'IncorrectPrediction':[69,26,73,67,54,62]\n",
    "       }\n",
    "scores=pd.DataFrame(scores)\n",
    "scores\n"
   ]
  },
  {
   "cell_type": "markdown",
   "metadata": {},
   "source": [
    "when pclass is dependent variable the model gives high accuracy<br>\n",
    "when Sex is dependent variable the model gives low accuracy"
   ]
  },
  {
   "cell_type": "code",
   "execution_count": null,
   "metadata": {},
   "outputs": [],
   "source": []
  }
 ],
 "metadata": {
  "kernelspec": {
   "display_name": "Python 3",
   "language": "python",
   "name": "python3"
  },
  "language_info": {
   "codemirror_mode": {
    "name": "ipython",
    "version": 3
   },
   "file_extension": ".py",
   "mimetype": "text/x-python",
   "name": "python",
   "nbconvert_exporter": "python",
   "pygments_lexer": "ipython3",
   "version": "3.7.6"
  }
 },
 "nbformat": 4,
 "nbformat_minor": 4
}
