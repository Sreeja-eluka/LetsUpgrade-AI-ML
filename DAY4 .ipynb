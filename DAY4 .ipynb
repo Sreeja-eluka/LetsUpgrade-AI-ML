{
 "cells": [
  {
   "cell_type": "markdown",
   "metadata": {},
   "source": [
    "1."
   ]
  },
  {
   "cell_type": "code",
   "execution_count": 7,
   "metadata": {},
   "outputs": [
    {
     "name": "stdout",
     "output_type": "stream",
     "text": [
      "addition of two complex numbers a and b is (14+11j)\n",
      "substraction of two complex numbers a and b is  (6+1j)\n",
      "multiplication of two complex numbers a and b is (10+74j)\n",
      "division of complex numbers a and b is (1.707317073170732-0.6341463414634146j)\n",
      "floor division of complex numbers a and b is not possible\n",
      "modulos of complex numbers a and b is not possible\n"
     ]
    }
   ],
   "source": [
    "a=10+6j\n",
    "b=4+5j\n",
    "print(\"addition of two complex numbers a and b is\",a+b)\n",
    "print(\"substraction of two complex numbers a and b is \",a-b)\n",
    "print(\"multiplication of two complex numbers a and b is\",a*b)\n",
    "print(\"division of complex numbers a and b is\",a/b)\n",
    "print(\"floor division of complex numbers a and b is not possible\")\n",
    "print(\"modulos of complex numbers a and b is not possible\")"
   ]
  },
  {
   "cell_type": "markdown",
   "metadata": {},
   "source": [
    "2."
   ]
  },
  {
   "cell_type": "markdown",
   "metadata": {},
   "source": [
    "RANGE FUNCTION:<br> range function is used in doing iterative sequence tasks in order to generate particular pattern of numbers,more similar to creating a list<br>it has three arguments: start,stop,step<br>start: indication of where to start your sequence of numbers<br>stop:up to where sequence should be generated<br>step:difference between the numbers generateda,<br>by default start is 0 and step is 1<br><br>DEFAULT PROGRAM:"
   ]
  },
  {
   "cell_type": "code",
   "execution_count": 10,
   "metadata": {},
   "outputs": [
    {
     "name": "stdout",
     "output_type": "stream",
     "text": [
      "0\n",
      "1\n",
      "2\n",
      "3\n",
      "4\n",
      "5\n",
      "6\n",
      "7\n",
      "8\n",
      "9\n"
     ]
    }
   ],
   "source": [
    "x=range(10)\n",
    "for n in x:\n",
    "    print(n)"
   ]
  },
  {
   "cell_type": "markdown",
   "metadata": {},
   "source": [
    "The above x=range(10) actually means x=range(0,10,1), that is start from 0 <br>,print upto 10 number(where 10 excluded) with difference 1 between numbers <br>as nothing mentioned it took defaukt values 0 for start and 1 for step.<br><br><br>ANOTHER EXAMPLE:"
   ]
  },
  {
   "cell_type": "code",
   "execution_count": 11,
   "metadata": {},
   "outputs": [
    {
     "name": "stdout",
     "output_type": "stream",
     "text": [
      "2\n",
      "5\n",
      "8\n",
      "11\n",
      "14\n"
     ]
    }
   ],
   "source": [
    "x=range(2,15,3)\n",
    "for n in x:\n",
    "    print(n)"
   ]
  },
  {
   "cell_type": "markdown",
   "metadata": {},
   "source": [
    "3."
   ]
  },
  {
   "cell_type": "code",
   "execution_count": 23,
   "metadata": {},
   "outputs": [
    {
     "name": "stdout",
     "output_type": "stream",
     "text": [
      "enter first number100\n",
      "enter second number25\n",
      "multiplication: 2500\n"
     ]
    }
   ],
   "source": [
    "x=int(input(\"enter first number\"))\n",
    "y=int(input(\"enter second number\"))\n",
    "if x-y>25:\n",
    "    print(\"multiplication:\",x*y)\n",
    "else:\n",
    "    print(\"division:\",x/y)"
   ]
  },
  {
   "cell_type": "markdown",
   "metadata": {},
   "source": [
    "4."
   ]
  },
  {
   "cell_type": "code",
   "execution_count": 6,
   "metadata": {},
   "outputs": [
    {
     "name": "stdout",
     "output_type": "stream",
     "text": [
      "square  of 2 and minus 2 of 2 is: 2\n",
      "square  of 6 and minus 2 of 6 is: 34\n",
      "square  of 16 and minus 2 of 16 is: 254\n",
      "square  of 46 and minus 2 of 46 is: 2114\n",
      "square  of 24 and minus 2 of 24 is: 574\n",
      "square  of 124 and minus 2 of 124 is: 15374\n"
     ]
    }
   ],
   "source": [
    "x=[2,7,19,6,13,16,46,77,24,124]\n",
    "for n in x:\n",
    "    if n%2==0:\n",
    "        print(\"square  of\",n, \"and minus 2 of\", n ,\"is:\",(n**2)-2)"
   ]
  },
  {
   "cell_type": "markdown",
   "metadata": {},
   "source": [
    "5."
   ]
  },
  {
   "cell_type": "code",
   "execution_count": 22,
   "metadata": {},
   "outputs": [
    {
     "name": "stdout",
     "output_type": "stream",
     "text": [
      "23\n",
      "45\n",
      "48\n",
      "64\n",
      "32\n",
      "72\n"
     ]
    }
   ],
   "source": [
    "a=[23,45,12,48,64,32,5,72,13,14]\n",
    "for n in a:\n",
    "    if n/2>7:\n",
    "        print(n)"
   ]
  },
  {
   "cell_type": "code",
   "execution_count": null,
   "metadata": {},
   "outputs": [],
   "source": []
  }
 ],
 "metadata": {
  "kernelspec": {
   "display_name": "Python 3",
   "language": "python",
   "name": "python3"
  },
  "language_info": {
   "codemirror_mode": {
    "name": "ipython",
    "version": 3
   },
   "file_extension": ".py",
   "mimetype": "text/x-python",
   "name": "python",
   "nbconvert_exporter": "python",
   "pygments_lexer": "ipython3",
   "version": "3.7.6"
  }
 },
 "nbformat": 4,
 "nbformat_minor": 4
}
