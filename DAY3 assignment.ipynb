{
 "cells": [
  {
   "cell_type": "markdown",
   "metadata": {},
   "source": [
    "# 1.\n"
   ]
  },
  {
   "cell_type": "code",
   "execution_count": 1,
   "metadata": {},
   "outputs": [
    {
     "name": "stdout",
     "output_type": "stream",
     "text": [
      "(2+5j)\n",
      "(1+2j)\n",
      "(1+3j)\n"
     ]
    }
   ],
   "source": [
    "a=2+5j\n",
    "b=1+2j\n",
    "print(a)\n",
    "print(b)\n",
    "c=a-b\n",
    "print(c)"
   ]
  },
  {
   "cell_type": "markdown",
   "metadata": {},
   "source": [
    "2.\n"
   ]
  },
  {
   "cell_type": "code",
   "execution_count": 5,
   "metadata": {},
   "outputs": [
    {
     "name": "stdout",
     "output_type": "stream",
     "text": [
      "enter a number16\n",
      "forth root is 2.0\n"
     ]
    }
   ],
   "source": [
    "x=int(input(\"enter a number\"))\n",
    "y=x**(0.25)\n",
    "print(\"forth root is\",y)"
   ]
  },
  {
   "cell_type": "markdown",
   "metadata": {},
   "source": [
    "3."
   ]
  },
  {
   "cell_type": "code",
   "execution_count": 6,
   "metadata": {},
   "outputs": [
    {
     "name": "stdout",
     "output_type": "stream",
     "text": [
      "enter a value for x2\n",
      "enter a value for y45\n",
      "x= 2\n",
      "y= 45\n",
      "after swapping\n",
      "x= 45\n",
      "y= 2\n"
     ]
    }
   ],
   "source": [
    "x=int(input(\"enter a value for x\"))\n",
    "y=int(input(\"enter a value for y\"))\n",
    "print(\"x=\",x)\n",
    "print(\"y=\",y)\n",
    "print(\"after swapping\")\n",
    "temp=x\n",
    "x=y\n",
    "y=temp\n",
    "print(\"x=\",x)\n",
    "print(\"y=\",y)\n",
    "\n"
   ]
  },
  {
   "cell_type": "markdown",
   "metadata": {},
   "source": [
    "4.\n"
   ]
  },
  {
   "cell_type": "code",
   "execution_count": 7,
   "metadata": {},
   "outputs": [
    {
     "name": "stdout",
     "output_type": "stream",
     "text": [
      "x= 4\n",
      "y= 8\n",
      "x= 8\n",
      "y= 4\n"
     ]
    }
   ],
   "source": [
    "x=4\n",
    "y=8\n",
    "print(\"x=\",x)\n",
    "print(\"y=\",y)\n",
    "x=x+y\n",
    "y=x-y\n",
    "x=x-y\n",
    "print(\"x=\",x)\n",
    "print(\"y=\",y)"
   ]
  },
  {
   "cell_type": "markdown",
   "metadata": {},
   "source": [
    "5."
   ]
  },
  {
   "cell_type": "code",
   "execution_count": 12,
   "metadata": {},
   "outputs": [
    {
     "name": "stdout",
     "output_type": "stream",
     "text": [
      "enter farenhiet temperature100\n",
      "100.0 farenhiet is 311.27777777777777 kelvins and 37.77777777777777 celcius\n",
      "100.0 farenhiet is 37.77777777777777 celcius\n"
     ]
    }
   ],
   "source": [
    "f=float(input(\"enter farenhiet temperature\"))\n",
    "k=273.5+((f-32.0)*(5/9))\n",
    "c=k-273.5\n",
    "print(f,\"farenhiet is\",k,\"kelvins and\",c,\"celcius\")\n"
   ]
  },
  {
   "cell_type": "markdown",
   "metadata": {},
   "source": [
    "6."
   ]
  },
  {
   "cell_type": "code",
   "execution_count": 20,
   "metadata": {},
   "outputs": [
    {
     "name": "stdout",
     "output_type": "stream",
     "text": [
      "type of 60 is <class 'int'>\n",
      "type of 45.88 is <class 'float'>\n",
      "type of  (2+3j) is <class 'complex'>\n",
      "type of sreeja is <class 'str'>\n",
      "type of [1, 'hello', 55.89, (2+2j)] is <class 'list'>\n",
      "type of (3, 88.97, 'chicken') is <class 'tuple'>\n",
      "type of True is <class 'bool'>\n",
      "type of {1: 'one', 2: 'two', 3: 'three'} is <class 'dict'>\n",
      "type of {88.78, 1, 'joker', 55} is <class 'set'>\n"
     ]
    }
   ],
   "source": [
    "a=60\n",
    "print(\"type of\", a, \"is\",type(a))\n",
    "b=45.88\n",
    "print(\"type of\",b,\"is\",type(b))\n",
    "c=2+3j\n",
    "print(\"type of \",c ,\"is\",type(c))\n",
    "d=\"sreeja\"\n",
    "print(\"type of\", d, \"is\",type(d))\n",
    "e=[1,\"hello\",55.89,2+2j]\n",
    "print(\"type of\", e,\"is\",type(e))\n",
    "f=(3,88.97,\"chicken\")\n",
    "print(\"type of\",f,\"is\",type(f))\n",
    "g=True\n",
    "print(\"type of\", g,\"is\",type(g))\n",
    "h={1:'one',2:'two',3:'three'}\n",
    "print(\"type of\", h,\"is\",type(h))\n",
    "s={1,'joker',55,88.78}\n",
    "print(\"type of\", s,\"is\",type(s))"
   ]
  },
  {
   "cell_type": "markdown",
   "metadata": {},
   "source": [
    "7."
   ]
  },
  {
   "cell_type": "markdown",
   "metadata": {},
   "source": [
    "1.Signup for github<br>2.Create a repository named \"LetsUpgrade AI/ML\" as public one<br>3.Open that repository and click on\"uploadexisting files\"<br>4.Add ur jupyter notebook saved in ur pc name it as \"dayno.assignment\"<br>5.After done with uploading copy the url of particular folder<br>6.Fill the google for for assignment submission by pasting the url copied"
   ]
  },
  {
   "cell_type": "code",
   "execution_count": null,
   "metadata": {},
   "outputs": [],
   "source": []
  }
 ],
 "metadata": {
  "kernelspec": {
   "display_name": "Python 3",
   "language": "python",
   "name": "python3"
  },
  "language_info": {
   "codemirror_mode": {
    "name": "ipython",
    "version": 3
   },
   "file_extension": ".py",
   "mimetype": "text/x-python",
   "name": "python",
   "nbconvert_exporter": "python",
   "pygments_lexer": "ipython3",
   "version": "3.7.6"
  }
 },
 "nbformat": 4,
 "nbformat_minor": 4
}
