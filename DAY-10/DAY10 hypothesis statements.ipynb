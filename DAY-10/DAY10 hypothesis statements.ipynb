{
 "cells": [
  {
   "cell_type": "markdown",
   "metadata": {},
   "source": [
    "             #LIST OF HYPOTHESIS STATEMENTS FOR ATTRTION PROBLEM"
   ]
  },
  {
   "cell_type": "markdown",
   "metadata": {},
   "source": [
    "**Hypothesis1:** <br>Null hypothesis:<br>\n",
    "    The mean age of an employee who has attrited is  equal to  to be 36 with a standard deviation of 9.67  .<br>Alternative Hypothesis:<br> The mean age of an employee who has attrited is  found to benot equal to 36 <br>\n",
    "To determine this is true a sample of size 35 is taken and is found out that mean age of employee who attritioned is equal to 31  <br><br>\n",
    "**Hypothesis2:**<br>Null hypothesis:<br>The minimum perecent salary hike of employee who stayed in the company is 9 with standard deviation of 3.7<br>Alternative Hypothesis:<br>The minimum perecent salary hike of employee who stayed in the company is not equal to 9<br>To determine this is true a sample of size 35 is taken and is found out that min perecnt salary hike  of employee who stayed is equal to 14\n",
    "<br><br>\n",
    "**Hypothesis3:**<br>Null hypothesis:<br> Employees having mean job levels equal to 4 with standard deviation 1.05 are attritioned.<br>Alternative Hypothesis:<br>Employees having mean job levels not  equal to 4 are attritioned.<br>\n",
    "To determine this is true a sample of size 35 is taken and is found out that mean joblevel of employee who attritioned is equal to 2.14  <br><br>\n",
    "**Hypothesis4:**<br>Null hypothesis:<br>Female employees who attritioned has mean distance from home as 3.493976 with standar deviation as 8.2<br>Alternative Hypothesis:<br>Female employees who attritioned  mean distance from home is not  equal to 3.493976 <br>\n",
    "To determine this is true a sample of size 150 is taken and is found out that mean distance from home as  to  10.346667<br><br>\n",
    "**Hypothesis5:**<br>Null hypothesis:<br>Employees of age more than 45 who attritioned has mean of years since last promotion as 8.0 years with standard deviation as 4.2   <br>Alternative Hypothesis:<br>Employees of age more than 45 who attritioned h mean of years since last promotion is not equal to 8.0 <br>To determine this is true a sample of size 25 is taken and is found out that  of years since last promotion as 3.12 <br><br>\n",
    "**Hypothesis6:**<br>Null hypothesis:<br>The average number of years spent by an attrited employee with current manager was found to be equal to 2.86 with a standard deviation of 3.14 <br>Alternative Hypothesis:<br>The average number of years spent by an attrited employee with current manager was found to be  not equal to 2.86<br> To determine this is true a sample of size 35 is taken and is found out that average number of years spent by an attrited employee with current manager was 2.9 years\n",
    "<br><br>\n",
    "**Hypothesis7:**<br>Null hypothesis:<br>married employee who stayed in the company has mean monthly income less than or equal to  66968 with standard deviation of 49511   <br>Alternative Hypothesis:<br>married employee who stayed in the company have mean monthly income is not lessthan or equal to  66968<br> To determine this is true a sample of size 55 is taken and is found out that mean monthly income is greater than or equal to 59317\n",
    "<br><br>\n",
    "**Hypothesis8:**<br>Null hypothesis:<br>the mean joblevel  of the attrited employees who took training less than 3 times in the previous year is found to be greater than or equal to 3 with a standard deviation of 1.08<br>Alternative Hypothesis:<br>the mean joblevel  of the attrited employees who took training less than 3 times in the previous year is found to be less than 3<br>To determine this is true a sample of size 5o is taken and is found out that mean job level is greater than 2\n",
    "<br><br>\n",
    "**Hypothesis9:**<br>Null hypothesis:<br>the mean num of companies a attitioned employed worked for is 2.936351<br>Alternative Hypothesis:<br>the mean num of companies a attitioned employed worked for is not  2.936351<br>To determine this is true a sample of size 35 is taken and is found out that mean number of companies worked for by attritioned emloyee is 2.\n",
    "<br><br>\n",
    "**Hypothesis10:**<br>Null hypothesis:<br>The average no.of total working years of employees who stayed is 8.25 years with standard deviation of 7<br>Alternative Hypothesis:<br>The average no.of total working years of employees who stayed is not  8.25 years<br>To determine this is true a sample of size 35 is taken and is found out that mean total working years of employees who stayed is 8.4"
   ]
  },
  {
   "cell_type": "code",
   "execution_count": null,
   "metadata": {},
   "outputs": [],
   "source": []
  }
 ],
 "metadata": {
  "kernelspec": {
   "display_name": "Python 3",
   "language": "python",
   "name": "python3"
  },
  "language_info": {
   "codemirror_mode": {
    "name": "ipython",
    "version": 3
   },
   "file_extension": ".py",
   "mimetype": "text/x-python",
   "name": "python",
   "nbconvert_exporter": "python",
   "pygments_lexer": "ipython3",
   "version": "3.7.6"
  }
 },
 "nbformat": 4,
 "nbformat_minor": 4
}
